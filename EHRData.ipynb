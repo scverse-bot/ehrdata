{
 "cells": [
  {
   "cell_type": "code",
   "execution_count": 1,
   "metadata": {},
   "outputs": [
    {
     "name": "stderr",
     "output_type": "stream",
     "text": [
      "/opt/anaconda3/envs/ehrapy_latents/lib/python3.9/site-packages/tqdm/auto.py:21: TqdmWarning: IProgress not found. Please update jupyter and ipywidgets. See https://ipywidgets.readthedocs.io/en/stable/user_install.html\n",
      "  from .autonotebook import tqdm as notebook_tqdm\n"
     ]
    }
   ],
   "source": [
    "import awkward as ak\n",
    "import numpy as np\n",
    "import pandas as pd\n",
    "\n",
    "\n",
    "import ehrapy as ep\n",
    "import scanpy as sc\n",
    "from anndata import AnnData\n",
    "import mudata as md\n",
    "from mudata import MuData\n",
    "import os"
   ]
  },
  {
   "cell_type": "code",
   "execution_count": 211,
   "metadata": {},
   "outputs": [
    {
     "name": "stdout",
     "output_type": "stream",
     "text": [
      "\u001b[1;35m2023-11-20 18:06:28,994\u001b[0m - \u001b[1;34mroot\u001b[0m \u001b[1;30mINFO - Transformed passed dataframe into an AnnData object with n_obs x n_vars = `852` x `0`.\u001b[0m\n"
     ]
    }
   ],
   "source": [
    "import pandas as pd\n",
    "import ehrapy as ep\n",
    "import glob\n",
    "\n",
    "class OMOP():\n",
    "    \n",
    "    def __init__(self, file_paths):\n",
    "        self.base = file_paths\n",
    "        file_list = glob.glob(os.path.join(file_paths, '*'))\n",
    "        self.loaded_tabel = None\n",
    "        self.tables = []\n",
    "        for file_path in file_list:\n",
    "            file_name = file_path.split('/')[-1].removesuffix('.csv')\n",
    "            self.tables.append(file_name)\n",
    "    \n",
    "    # Some Plot functions to plot\n",
    "    # Load important tables into AnnData\n",
    "    # Time series data into .obsm as Awkward Array\n",
    "    # Episode Level Data into .obs/.X\n",
    "    def load(self, level='stay_level'):\n",
    "        if level == 'stay_level':\n",
    "            self.visit_occurrence = pd.read_csv(f'{self.base}/visit_occurrence.csv')\n",
    "            self.person = pd.read_csv(f'{self.base}/person.csv', index_col='person_id')\n",
    "            self.death = pd.read_csv(f'{self.base}/death.csv', index_col='person_id')\n",
    "            self.measurement = pd.read_csv(f'{self.base}/measurement.csv')\n",
    "            self.observation = pd.read_csv(f'{self.base}/observation.csv')\n",
    "            self.drug_exposure = pd.read_csv(f'{self.base}/drug_exposure.csv')\n",
    "\n",
    "            self.loaded_tabel = ['visit_occurrence', 'person', 'death', 'measurement', 'observation', 'drug_exposure']\n",
    "            self.joined_table = pd.merge(self.visit_occurrence, self.person, on='person_id', how='left')\n",
    "            self.joined_table = pd.merge(self.visit_occurrence, self.death, on='person_id', how='left')\n",
    "            \n",
    "\n",
    "\n",
    "            obs_only_list = list(omop.joined_table.columns)\n",
    "            obs_only_list.remove('visit_occurrence_id')\n",
    "            adata = ep.ad.df_to_anndata(\n",
    "                self.joined_table, index_column=\"visit_occurrence_id\", columns_obs_only = obs_only_list)\n",
    "            \n",
    "            for column in self.measurement.columns:\n",
    "                if column != 'visit_occurrence_id':\n",
    "                    obs_list = []\n",
    "                    for visit_occurrence_id in adata.obs.index:\n",
    "                        obs_list.append(list(self.measurement[self.measurement['visit_occurrence_id'] == int(visit_occurrence_id)][column]))\n",
    "                    adata.obsm[column]= ak.Array(obs_list)\n",
    "\n",
    "            for column in self.drug_exposure.columns:\n",
    "                if column != 'visit_occurrence_id':\n",
    "                    obs_list = []\n",
    "                    for visit_occurrence_id in adata.obs.index:\n",
    "                        obs_list.append(list(self.drug_exposure[self.drug_exposure['visit_occurrence_id'] == int(visit_occurrence_id)][column]))\n",
    "                    adata.obsm[column]= ak.Array(obs_list)\n",
    "            \n",
    "            for column in self.observation.columns:\n",
    "                if column != 'visit_occurrence_id':\n",
    "                    obs_list = []\n",
    "                    for visit_occurrence_id in adata.obs.index:\n",
    "                        obs_list.append(list(self.observation[self.observation['visit_occurrence_id'] == int(visit_occurrence_id)][column]))\n",
    "                    adata.obsm[column]= ak.Array(obs_list)\n",
    "            \n",
    "        \n",
    "        return adata\n"
   ]
  },
  {
   "cell_type": "code",
   "execution_count": null,
   "metadata": {},
   "outputs": [],
   "source": [
    "# Using MIMIC-IV demo data in the OMOP Common Data Model\n",
    "# https://physionet.org/content/mimic-iv-demo-omop/0.9/\n",
    "omop = OMOP(\"/Users/xinyuezhang/mimic-iv-demo-data-in-the-omop-common-data-model-0.9/1_omop_data_csv\")\n",
    "adata = omop.load('stay_level')"
   ]
  },
  {
   "cell_type": "code",
   "execution_count": 210,
   "metadata": {},
   "outputs": [
    {
     "data": {
      "text/plain": [
       "['provider',\n",
       " '2b_vocabulary',\n",
       " 'observation_period',\n",
       " 'drug_exposure',\n",
       " 'care_site',\n",
       " '2b_concept',\n",
       " 'cohort_definition',\n",
       " 'cost',\n",
       " 'specimen',\n",
       " 'death',\n",
       " 'device_exposure',\n",
       " 'attribute_definition',\n",
       " 'fact_relationship',\n",
       " 'dose_era',\n",
       " 'location',\n",
       " 'measurement',\n",
       " 'cohort',\n",
       " 'note_nlp',\n",
       " 'cohort_attribute',\n",
       " 'condition_occurrence',\n",
       " '2b_concept_relationship',\n",
       " 'drug_era',\n",
       " 'cdm_source',\n",
       " 'visit_occurrence',\n",
       " 'metadata',\n",
       " 'person',\n",
       " 'observation',\n",
       " 'visit_detail',\n",
       " 'payer_plan_period',\n",
       " 'procedure_occurrence',\n",
       " 'note',\n",
       " 'condition_era']"
      ]
     },
     "execution_count": 210,
     "metadata": {},
     "output_type": "execute_result"
    }
   ],
   "source": [
    "omop.tables"
   ]
  },
  {
   "cell_type": "code",
   "execution_count": 212,
   "metadata": {},
   "outputs": [
    {
     "data": {
      "text/plain": [
       "['visit_occurrence',\n",
       " 'person',\n",
       " 'death',\n",
       " 'measurement',\n",
       " 'observation',\n",
       " 'drug_exposure']"
      ]
     },
     "execution_count": 212,
     "metadata": {},
     "output_type": "execute_result"
    }
   ],
   "source": [
    "omop.loaded_tabel"
   ]
  },
  {
   "cell_type": "code",
   "execution_count": 192,
   "metadata": {},
   "outputs": [
    {
     "data": {
      "text/plain": [
       "AnnData object with n_obs × n_vars = 852 × 0\n",
       "    obs: 'person_id', 'visit_concept_id', 'visit_start_date', 'visit_start_datetime', 'visit_end_date', 'visit_end_datetime', 'visit_type_concept_id', 'provider_id', 'care_site_id', 'visit_source_value', 'visit_source_concept_id', 'admitting_source_concept_id', 'admitting_source_value', 'discharge_to_concept_id', 'discharge_to_source_value', 'preceding_visit_occurrence_id', 'death_date', 'death_datetime', 'death_type_concept_id', 'cause_concept_id', 'cause_source_value', 'cause_source_concept_id'\n",
       "    uns: 'numerical_columns', 'non_numerical_columns'\n",
       "    obsm: 'measurement_id', 'person_id', 'measurement_concept_id', 'measurement_date', 'measurement_datetime', 'measurement_time', 'measurement_type_concept_id', 'operator_concept_id', 'value_as_number', 'value_as_concept_id', 'unit_concept_id', 'range_low', 'range_high', 'provider_id', 'visit_detail_id', 'measurement_source_value', 'measurement_source_concept_id', 'unit_source_value', 'value_source_value'\n",
       "    layers: 'original'"
      ]
     },
     "execution_count": 192,
     "metadata": {},
     "output_type": "execute_result"
    }
   ],
   "source": [
    "adata"
   ]
  },
  {
   "cell_type": "code",
   "execution_count": null,
   "metadata": {},
   "outputs": [],
   "source": [
    "# Some setter and getter functions\n",
    "\n",
    "# Some functions\n",
    "# Define cohort\n",
    "\n",
    "# Plot functions to: \n",
    "# 1) plot time series feature(s) of one patients or mutiple patients\n",
    "# 2) plot data density of time series features\n",
    "\n",
    "# More functions:\n",
    "# Subetting along columns: support extract certain features from certain tables and save in anndata. (E.g. heart rate from measurement table. )\n",
    "# Subetting along rows: support data subsetting based on certain diease label / time / … (E.g. extract First 48-hour data since admission.)\n",
    "# get the aggregation/representation of time series features, and put into .X (min/max/median/mean) .uns/.obsm (representation).\n",
    "# Query, Map concept in concept table."
   ]
  },
  {
   "cell_type": "code",
   "execution_count": 209,
   "metadata": {},
   "outputs": [
    {
     "data": {
      "image/png": "[encoded data removed]",
      "text/latex": [
       "$\\displaystyle 852$"
      ],
      "text/plain": [
       "852"
      ]
     },
     "execution_count": 209,
     "metadata": {},
     "output_type": "execute_result"
    }
   ],
   "source": [
    "len(adata.obsm['measurement_id'])"
   ]
  },
  {
   "cell_type": "code",
   "execution_count": 65,
   "metadata": {},
   "outputs": [
    {
     "name": "stdout",
     "output_type": "stream",
     "text": [
      "code, I6359\n",
      "code, I669\n",
      "code, I2109\n",
      "code, I2109\n",
      "code, I2109\n",
      "code, I2109\n",
      "code, I2109\n",
      "code, I2119\n",
      "code, I2119\n",
      "code, I2111\n",
      "code, I2111\n",
      "code, I2119\n",
      "code, I2119\n",
      "code, I2119\n",
      "code, I2129\n",
      "code, I2129\n",
      "code, I2129\n",
      "code, I2129\n",
      "code, I2129\n",
      "code, I214\n",
      "code, I214\n",
      "code, I2129\n",
      "code, I2129\n",
      "code, I2129\n",
      "code, I21A9\n",
      "code, I21A9\n",
      "code, R001\n",
      "code, Z4931\n",
      "code, Z4932\n",
      "code, J439\n",
      "code, J449\n",
      "code, G9782\n",
      "code, G9782\n",
      "code, J9589\n",
      "code, K9189\n",
      "code, T8172XA\n",
      "code, T888XXA\n",
      "code, T814XXA\n",
      "code, T8189XA\n",
      "code, I441\n",
      "code, I452\n",
      "code, I452\n",
      "code, I456\n",
      "code, I509\n",
      "code, I2510\n",
      "code, I259\n",
      "code, E0965\n",
      "code, E0921\n",
      "code, E1310\n",
      "code, E1310\n",
      "code, E1065\n",
      "code, E1165\n",
      "code, E1069\n",
      "code, E1165\n",
      "code, E1065\n",
      "code, E1165\n",
      "code, E1065\n",
      "code, E1165\n",
      "code, E1065\n",
      "code, E1165\n",
      "code, E1065\n",
      "code, E1165\n",
      "code, E1065\n",
      "code, E1069\n",
      "code, E1169\n",
      "code, E1069\n",
      "code, E118\n",
      "code, E108\n",
      "code, Z4681\n",
      "code, K56699\n",
      "code, K56699\n",
      "code, K56699\n",
      "code, K56699\n",
      "code, K56699\n",
      "code, K56699\n",
      "code, K56699\n",
      "code, K270\n",
      "code, K272\n",
      "code, K274\n",
      "code, K276\n",
      "code, K280\n",
      "code, K282\n",
      "code, K284\n",
      "code, K286\n",
      "code, I119\n",
      "code, I110\n",
      "code, I119\n",
      "code, I110\n",
      "code, I129\n",
      "code, I120\n",
      "code, I129\n",
      "code, I120\n",
      "code, I1310\n",
      "code, I130\n",
      "code, I1311\n",
      "code, I132\n",
      "code, I1310\n",
      "code, I130\n",
      "code, I1311\n",
      "code, I132\n",
      "code, I150\n",
      "code, I158\n",
      "code, I150\n",
      "code, I158\n",
      "code, V232\n",
      "code, V233\n",
      "code, V234\n",
      "code, V2341\n",
      "code, V2349\n",
      "code, V235\n",
      "code, V237\n",
      "code, V238\n",
      "code, V2381\n",
      "code, V2382\n",
      "code, K7689\n",
      "code, K769\n",
      "code, R0689\n",
      "code, Z8709\n",
      "code, J390\n",
      "code, J392\n",
      "code, J392\n",
      "code, J392\n",
      "code, J3801\n",
      "code, J3802\n",
      "code, J387\n",
      "code, J387\n",
      "code, A202\n",
      "code, A202\n",
      "code, J17\n",
      "code, J17\n",
      "code, J154\n",
      "code, J154\n",
      "code, J158\n",
      "code, A221\n",
      "code, J17\n",
      "code, J17\n",
      "code, J17\n",
      "code, J9620\n",
      "code, Z9911\n",
      "code, A419\n"
     ]
    }
   ],
   "source": [
    "import yaml\n",
    "with open(\"/Users/xinyuezhang/MedFuse-main/mimic4extract/mimic3benchmark/resources/icd_9_10_definitions_2.yaml\") as definitions_file:\n",
    "    definitions = yaml.safe_load(definitions_file)\n",
    "\n",
    "code_to_group = {}\n",
    "\n",
    "\n",
    "for group in definitions:\n",
    "    codes = definitions[group]['codes']\n",
    "    for code in codes:\n",
    "        if code not in code_to_group:\n",
    "            code_to_group[code] = group\n",
    "        else:\n",
    "            print(f'code, {code}')\n",
    "            assert code_to_group[code] == group"
   ]
  }
 ],
 "metadata": {
  "kernelspec": {
   "display_name": "ehrapy_latents",
   "language": "python",
   "name": "python3"
  },
  "language_info": {
   "codemirror_mode": {
    "name": "ipython",
    "version": 3
   },
   "file_extension": ".py",
   "mimetype": "text/x-python",
   "name": "python",
   "nbconvert_exporter": "python",
   "pygments_lexer": "ipython3",
   "version": "3.9.16"
  }
 },
 "nbformat": 4,
 "nbformat_minor": 2
}
